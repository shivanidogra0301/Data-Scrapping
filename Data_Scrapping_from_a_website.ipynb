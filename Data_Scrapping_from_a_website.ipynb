{
 "cells": [
  {
   "cell_type": "code",
   "execution_count": 1,
   "metadata": {},
   "outputs": [
    {
     "name": "stdout",
     "output_type": "stream",
     "text": [
      "Collecting bs4\n",
      "  Downloading https://files.pythonhosted.org/packages/10/ed/7e8b97591f6f456174139ec089c769f89a94a1a4025fe967691de971f314/bs4-0.0.1.tar.gz\n",
      "Collecting beautifulsoup4\n",
      "  Downloading https://files.pythonhosted.org/packages/cb/a1/c698cf319e9cfed6b17376281bd0efc6bfc8465698f54170ef60a485ab5d/beautifulsoup4-4.8.2-py3-none-any.whl (106kB)\n",
      "Collecting soupsieve>=1.2\n",
      "  Downloading https://files.pythonhosted.org/packages/81/94/03c0f04471fc245d08d0a99f7946ac228ca98da4fa75796c507f61e688c2/soupsieve-1.9.5-py2.py3-none-any.whl\n",
      "Installing collected packages: soupsieve, beautifulsoup4, bs4\n",
      "    Running setup.py install for bs4: started\n",
      "    Running setup.py install for bs4: finished with status 'done'\n",
      "Successfully installed beautifulsoup4-4.8.2 bs4-0.0.1 soupsieve-1.9.5\n"
     ]
    }
   ],
   "source": [
    "!pip install bs4"
   ]
  },
  {
   "cell_type": "code",
   "execution_count": 2,
   "metadata": {},
   "outputs": [
    {
     "name": "stdout",
     "output_type": "stream",
     "text": [
      "[<th>Code name\n",
      "</th>, <th>Version numbers\n",
      "</th>, <th>Initial release date\n",
      "</th>, <th>API level\n",
      "</th>, <th>References\n",
      "</th>]\n",
      "['Code name', 'Version numbers', 'Initial release date', 'API level', 'References']\n"
     ]
    }
   ],
   "source": [
    "from urllib.request import urlopen\n",
    "android_url=\"https://en.wikipedia.org/wiki/Android_version_history\"\n",
    "android_data=urlopen(android_url)\n",
    "android_html=android_data.read()\n",
    "android_data.close()\n",
    "from bs4 import BeautifulSoup as soup\n",
    "android_soup=soup(android_html,'html.parser')\n",
    "tables=android_soup.findAll(\"table\",{'class':'wikitable'})\n",
    "android_table=tables[0]\n",
    "#print(android_table)\n",
    "# in headers list of all the headings of column exist\n",
    "headers=android_table.findAll('th')\n",
    "#print(headers)\n",
    "column_titles=[ ct.text[:-1] for ct in headers]\n",
    "#we use .txt to get the data ans[:-1] to remove /n from the data\n",
    "print(column_titles)\n"
   ]
  },
  {
   "cell_type": "code",
   "execution_count": 29,
   "metadata": {},
   "outputs": [
    {
     "name": "stdout",
     "output_type": "stream",
     "text": [
      "[['No codename', '1.0', 'September 23, 2008', '1', '[9]'], ['1.1', 'February 9, 2009', '2', '[9][11]'], ['Cupcake', '1.5', 'April 27, 2009', '3', ''], ['Donut', '1.6', 'September 15, 2009', '4', '[12]'], ['Eclair', '2.0 – 2.1', 'October 26, 2009', '5 – 7', '[13]'], ['Froyo', '2.2 – 2.2.3', 'May 20, 2010', '8', '[14]'], ['Gingerbread', '2.3 – 2.3.7', 'December 6, 2010', '9 – 10', '[15]'], ['Honeycomb', '3.0 – 3.2.6', 'February 22, 2011', '11 – 13', '[16]'], ['Ice Cream Sandwich', '4.0 – 4.0.4', 'October 18, 2011', '14 – 15', '[17]'], ['Jelly Bean', '4.1 – 4.3.1', 'July 9, 2012', '16 – 18', '[18]'], ['KitKat', '4.4 – 4.4.4', 'October 31, 2013', '19 – 20', '[19]'], ['Lollipop', '5.0 – 5.1.1', 'November 12, 2014', '21 – 22', '[20]'], ['Marshmallow', '6.0 – 6.0.1', 'October 5, 2015', '23', '[21]'], ['Nougat', '7.0', 'August 22, 2016', '24', '[22]'], ['7.1.0 – 7.1.2', 'October 4, 2016', '25', '[23][24][25]'], ['Oreo', '8.0', 'August 21, 2017', '26', '[26]'], ['8.1', 'December 5, 2017', '27', ''], ['Pie', '9.0', 'August 6, 2018', '28', '[27]'], ['Android 10', '10.0', 'September 3, 2019', '29', '[28]']]\n"
     ]
    }
   ],
   "source": [
    "# for all the data of rows\n",
    "rows_data=android_table.findAll('tr')[1:]\n",
    "# we scrap 1 so that heading does not again stored\n",
    "#print(rows_data)\n",
    "table_rows=[]\n",
    "for row in rows_data:\n",
    "    current_row=[]\n",
    "    row_data=row.findAll('td',{})\n",
    "    for idx,data in enumerate(row_data):\n",
    "         current_row.append(data.text[:-1])\n",
    "            \n",
    "    table_rows.append(current_row)\n",
    "print(table_rows)    "
   ]
  },
  {
   "cell_type": "code",
   "execution_count": 30,
   "metadata": {},
   "outputs": [],
   "source": [
    "filename=\"Android_version_history.csv\"\n",
    "with open(filename,'w',encoding=\"utf-8\") as f:\n",
    "    header_string=\",\".join(column_titles)\n",
    "    header_string+='\\n'\n",
    "    f.write(header_string)\n",
    "    for row in table_rows:\n",
    "        rowstring=\"\"\n",
    "        for w in row:\n",
    "#to remove unwanted commas from date column we  iterate over each word in row and replace , by empty\n",
    "#  string,then we concatinate\n",
    "            w=w.replace(',','')\n",
    "            rowstring+=w+\",\"\n",
    "        #we have given -1 because it is creating an extra column which is not required\n",
    "        rowstring=rowstring[:-1]\n",
    "        rowstring+='\\n'\n",
    "        f.write(rowstring)"
   ]
  },
  {
   "cell_type": "code",
   "execution_count": 31,
   "metadata": {},
   "outputs": [
    {
     "name": "stdout",
     "output_type": "stream",
     "text": [
      "Requirement already satisfied: pandas in c:\\users\\shivani\\appdata\\local\\programs\\python\\python37\\lib\\site-packages (0.25.3)\n",
      "Requirement already satisfied: pytz>=2017.2 in c:\\users\\shivani\\appdata\\local\\programs\\python\\python37\\lib\\site-packages (from pandas) (2019.3)\n",
      "Requirement already satisfied: python-dateutil>=2.6.1 in c:\\users\\shivani\\appdata\\local\\programs\\python\\python37\\lib\\site-packages (from pandas) (2.8.1)\n",
      "Requirement already satisfied: numpy>=1.13.3 in c:\\users\\shivani\\appdata\\local\\programs\\python\\python37\\lib\\site-packages (from pandas) (1.18.1)\n",
      "Requirement already satisfied: six>=1.5 in c:\\users\\shivani\\appdata\\local\\programs\\python\\python37\\lib\\site-packages (from python-dateutil>=2.6.1->pandas) (1.13.0)\n"
     ]
    }
   ],
   "source": [
    "!pip install pandas\n"
   ]
  },
  {
   "cell_type": "code",
   "execution_count": 32,
   "metadata": {},
   "outputs": [
    {
     "data": {
      "text/html": [
       "<div>\n",
       "<style scoped>\n",
       "    .dataframe tbody tr th:only-of-type {\n",
       "        vertical-align: middle;\n",
       "    }\n",
       "\n",
       "    .dataframe tbody tr th {\n",
       "        vertical-align: top;\n",
       "    }\n",
       "\n",
       "    .dataframe thead th {\n",
       "        text-align: right;\n",
       "    }\n",
       "</style>\n",
       "<table border=\"1\" class=\"dataframe\">\n",
       "  <thead>\n",
       "    <tr style=\"text-align: right;\">\n",
       "      <th></th>\n",
       "      <th>Code name</th>\n",
       "      <th>Version numbers</th>\n",
       "      <th>Initial release date</th>\n",
       "      <th>API level</th>\n",
       "      <th>References</th>\n",
       "    </tr>\n",
       "  </thead>\n",
       "  <tbody>\n",
       "    <tr>\n",
       "      <th>0</th>\n",
       "      <td>No codename</td>\n",
       "      <td>1.0</td>\n",
       "      <td>September 23 2008</td>\n",
       "      <td>1</td>\n",
       "      <td>[9]</td>\n",
       "    </tr>\n",
       "    <tr>\n",
       "      <th>1</th>\n",
       "      <td>1.1</td>\n",
       "      <td>February 9 2009</td>\n",
       "      <td>2</td>\n",
       "      <td>[9][11]</td>\n",
       "      <td>NaN</td>\n",
       "    </tr>\n",
       "    <tr>\n",
       "      <th>2</th>\n",
       "      <td>Cupcake</td>\n",
       "      <td>1.5</td>\n",
       "      <td>April 27 2009</td>\n",
       "      <td>3</td>\n",
       "      <td>NaN</td>\n",
       "    </tr>\n",
       "    <tr>\n",
       "      <th>3</th>\n",
       "      <td>Donut</td>\n",
       "      <td>1.6</td>\n",
       "      <td>September 15 2009</td>\n",
       "      <td>4</td>\n",
       "      <td>[12]</td>\n",
       "    </tr>\n",
       "    <tr>\n",
       "      <th>4</th>\n",
       "      <td>Eclair</td>\n",
       "      <td>2.0 – 2.1</td>\n",
       "      <td>October 26 2009</td>\n",
       "      <td>5 – 7</td>\n",
       "      <td>[13]</td>\n",
       "    </tr>\n",
       "    <tr>\n",
       "      <th>5</th>\n",
       "      <td>Froyo</td>\n",
       "      <td>2.2 – 2.2.3</td>\n",
       "      <td>May 20 2010</td>\n",
       "      <td>8</td>\n",
       "      <td>[14]</td>\n",
       "    </tr>\n",
       "    <tr>\n",
       "      <th>6</th>\n",
       "      <td>Gingerbread</td>\n",
       "      <td>2.3 – 2.3.7</td>\n",
       "      <td>December 6 2010</td>\n",
       "      <td>9 – 10</td>\n",
       "      <td>[15]</td>\n",
       "    </tr>\n",
       "    <tr>\n",
       "      <th>7</th>\n",
       "      <td>Honeycomb</td>\n",
       "      <td>3.0 – 3.2.6</td>\n",
       "      <td>February 22 2011</td>\n",
       "      <td>11 – 13</td>\n",
       "      <td>[16]</td>\n",
       "    </tr>\n",
       "    <tr>\n",
       "      <th>8</th>\n",
       "      <td>Ice Cream Sandwich</td>\n",
       "      <td>4.0 – 4.0.4</td>\n",
       "      <td>October 18 2011</td>\n",
       "      <td>14 – 15</td>\n",
       "      <td>[17]</td>\n",
       "    </tr>\n",
       "    <tr>\n",
       "      <th>9</th>\n",
       "      <td>Jelly Bean</td>\n",
       "      <td>4.1 – 4.3.1</td>\n",
       "      <td>July 9 2012</td>\n",
       "      <td>16 – 18</td>\n",
       "      <td>[18]</td>\n",
       "    </tr>\n",
       "  </tbody>\n",
       "</table>\n",
       "</div>"
      ],
      "text/plain": [
       "            Code name  Version numbers Initial release date API level  \\\n",
       "0         No codename              1.0    September 23 2008         1   \n",
       "1                 1.1  February 9 2009                    2   [9][11]   \n",
       "2             Cupcake              1.5        April 27 2009         3   \n",
       "3               Donut              1.6    September 15 2009         4   \n",
       "4              Eclair        2.0 – 2.1      October 26 2009     5 – 7   \n",
       "5               Froyo      2.2 – 2.2.3          May 20 2010         8   \n",
       "6         Gingerbread      2.3 – 2.3.7      December 6 2010    9 – 10   \n",
       "7           Honeycomb      3.0 – 3.2.6     February 22 2011   11 – 13   \n",
       "8  Ice Cream Sandwich      4.0 – 4.0.4      October 18 2011   14 – 15   \n",
       "9          Jelly Bean      4.1 – 4.3.1          July 9 2012   16 – 18   \n",
       "\n",
       "  References  \n",
       "0        [9]  \n",
       "1        NaN  \n",
       "2        NaN  \n",
       "3       [12]  \n",
       "4       [13]  \n",
       "5       [14]  \n",
       "6       [15]  \n",
       "7       [16]  \n",
       "8       [17]  \n",
       "9       [18]  "
      ]
     },
     "execution_count": 32,
     "metadata": {},
     "output_type": "execute_result"
    }
   ],
   "source": [
    "import pandas as pd\n",
    "df=pd.read_csv('Android_version_history.csv')\n",
    "df.head(n=10)"
   ]
  },
  {
   "cell_type": "code",
   "execution_count": 23,
   "metadata": {},
   "outputs": [
    {
     "data": {
      "text/plain": [
       "'1.0'"
      ]
     },
     "execution_count": 23,
     "metadata": {},
     "output_type": "execute_result"
    }
   ],
   "source": [
    "#gives particular row and column\n",
    "df.iloc[0][1]"
   ]
  },
  {
   "cell_type": "code",
   "execution_count": 43,
   "metadata": {},
   "outputs": [],
   "source": [
    "#we can also srap data from locally saved files\n",
    "with open('colorGame.html','r',encoding='utf-8') as f:\n",
    "    pagesoup=soup(f,'html.parser')\n"
   ]
  },
  {
   "cell_type": "code",
   "execution_count": 48,
   "metadata": {},
   "outputs": [
    {
     "name": "stdout",
     "output_type": "stream",
     "text": [
      "The Great \n",
      "        \n",
      "RGB\n",
      "\n",
      "        Color Game\n"
     ]
    }
   ],
   "source": [
    "heading=pagesoup.findAll('h1')\n",
    "print(heading[0].text)"
   ]
  },
  {
   "cell_type": "code",
   "execution_count": null,
   "metadata": {},
   "outputs": [],
   "source": []
  }
 ],
 "metadata": {
  "kernelspec": {
   "display_name": "Python 3",
   "language": "python",
   "name": "python3"
  },
  "language_info": {
   "codemirror_mode": {
    "name": "ipython",
    "version": 3
   },
   "file_extension": ".py",
   "mimetype": "text/x-python",
   "name": "python",
   "nbconvert_exporter": "python",
   "pygments_lexer": "ipython3",
   "version": "3.7.6"
  }
 },
 "nbformat": 4,
 "nbformat_minor": 4
}
